{
 "cells": [
  {
   "cell_type": "markdown",
   "metadata": {},
   "source": [
    "# Just the beginning of some calculations I did in Gap. The repns package will be needed "
   ]
  },
  {
   "cell_type": "code",
   "execution_count": 46,
   "metadata": {},
   "outputs": [
    {
     "ename": "RuntimeError",
     "evalue": "Error loading Gap package repsn. You may want to install gap_packages SPKG.",
     "output_type": "error",
     "traceback": [
      "\u001b[1;31m---------------------------------------------------------------------------\u001b[0m",
      "\u001b[1;31mRuntimeError\u001b[0m                              Traceback (most recent call last)",
      "\u001b[1;32m<ipython-input-46-cf4feb7de2a9>\u001b[0m in \u001b[0;36m<module>\u001b[1;34m()\u001b[0m\n\u001b[1;32m----> 1\u001b[1;33m \u001b[0mgap\u001b[0m\u001b[1;33m.\u001b[0m\u001b[0mload_package\u001b[0m\u001b[1;33m(\u001b[0m\u001b[1;34m\"repsn\"\u001b[0m\u001b[1;33m)\u001b[0m\u001b[1;33m\u001b[0m\u001b[0m\n\u001b[0m",
      "\u001b[1;32m/opt/SageMath-8.9/local/lib/python2.7/site-packages/sage/interfaces/gap.pyc\u001b[0m in \u001b[0;36mload_package\u001b[1;34m(self, pkg, verbose)\u001b[0m\n\u001b[0;32m    519\u001b[0m         \u001b[1;32mif\u001b[0m \u001b[0mx\u001b[0m \u001b[1;33m==\u001b[0m \u001b[1;34m'fail'\u001b[0m\u001b[1;33m:\u001b[0m\u001b[1;33m\u001b[0m\u001b[0m\n\u001b[0;32m    520\u001b[0m             raise RuntimeError(\"Error loading Gap package \"+str(pkg)+\". \"+\n\u001b[1;32m--> 521\u001b[1;33m                                \"You may want to install gap_packages SPKG.\")\n\u001b[0m\u001b[0;32m    522\u001b[0m \u001b[1;33m\u001b[0m\u001b[0m\n\u001b[0;32m    523\u001b[0m     \u001b[1;32mdef\u001b[0m \u001b[0meval\u001b[0m\u001b[1;33m(\u001b[0m\u001b[0mself\u001b[0m\u001b[1;33m,\u001b[0m \u001b[0mx\u001b[0m\u001b[1;33m,\u001b[0m \u001b[0mnewlines\u001b[0m\u001b[1;33m=\u001b[0m\u001b[0mFalse\u001b[0m\u001b[1;33m,\u001b[0m \u001b[0mstrip\u001b[0m\u001b[1;33m=\u001b[0m\u001b[0mTrue\u001b[0m\u001b[1;33m,\u001b[0m \u001b[0msplit_lines\u001b[0m\u001b[1;33m=\u001b[0m\u001b[0mTrue\u001b[0m\u001b[1;33m,\u001b[0m \u001b[1;33m**\u001b[0m\u001b[0mkwds\u001b[0m\u001b[1;33m)\u001b[0m\u001b[1;33m:\u001b[0m\u001b[1;33m\u001b[0m\u001b[0m\n",
      "\u001b[1;31mRuntimeError\u001b[0m: Error loading Gap package repsn. You may want to install gap_packages SPKG."
     ]
    }
   ],
   "source": [
    "gap.load_package(\"repsn\")"
   ]
  },
  {
   "cell_type": "code",
   "execution_count": 1,
   "metadata": {},
   "outputs": [],
   "source": [
    "G=gap('SymmetricGroup(4);')\n",
    "G1=gap('GeneralLinearGroup(2,3)')\n",
    "G2=G.SchurCover();\n",
    "K.<z24> = CyclotomicField(24)\n",
    "z8 = z24^3\n",
    "z4 = z8^2\n",
    "z3 = z24^8"
   ]
  },
  {
   "cell_type": "code",
   "execution_count": 3,
   "metadata": {},
   "outputs": [
    {
     "data": {
      "text/plain": [
       "CT1\n",
       "\n",
       "     2  3  2  3  .  2\n",
       "     3  1  .  .  1  .\n",
       "\n",
       "       1a 2a 2b 3a 4a\n",
       "    2P 1a 1a 1a 3a 2b\n",
       "    3P 1a 2a 2b 1a 4a\n",
       "\n",
       "X.1     1 -1  1  1 -1\n",
       "X.2     3 -1 -1  .  1\n",
       "X.3     2  .  2 -1  .\n",
       "X.4     3  1 -1  . -1\n",
       "X.5     1  1  1  1  1"
      ]
     },
     "execution_count": 3,
     "metadata": {},
     "output_type": "execute_result"
    }
   ],
   "source": [
    "T0 = G.CharacterTable(); T0.Display()"
   ]
  },
  {
   "cell_type": "markdown",
   "metadata": {},
   "source": [
    "# From this we see that $S_4$ has no faithful 2-dimensional rep (see criterion for faithfulness below)"
   ]
  },
  {
   "cell_type": "code",
   "execution_count": 177,
   "metadata": {},
   "outputs": [],
   "source": [
    "T=G1.CharacterTable()"
   ]
  },
  {
   "cell_type": "code",
   "execution_count": 178,
   "metadata": {},
   "outputs": [
    {
     "data": {
      "text/plain": [
       "CT51\n",
       "\n",
       "     2  4  1  4  1  3  3  3  2\n",
       "     3  1  1  1  1  .  .  .  .\n",
       "\n",
       "       1a 6a 2a 3a 4a 8a 8b 2b\n",
       "\n",
       "X.1     1  1  1  1  1  1  1  1\n",
       "X.2     1  1  1  1  1 -1 -1 -1\n",
       "X.3     2 -1  2 -1  2  .  .  .\n",
       "X.4     2  1 -2 -1  .  A -A  .\n",
       "X.5     2  1 -2 -1  . -A  A  .\n",
       "X.6     3  .  3  . -1  1  1 -1\n",
       "X.7     3  .  3  . -1 -1 -1  1\n",
       "X.8     4 -1 -4  1  .  .  .  .\n",
       "\n",
       "A = -E(8)-E(8)^3\n",
       "  = -Sqrt(-2) = -i2"
      ]
     },
     "execution_count": 178,
     "metadata": {},
     "output_type": "execute_result"
    }
   ],
   "source": [
    "T.Display()"
   ]
  },
  {
   "cell_type": "markdown",
   "metadata": {},
   "source": [
    "# From the above Character table we conclude that $G_1=\\mathrm{GL}_2(\\mathbb{F}_3)$ has two faithful two-dimensional representations, X.4 and X.5 (since faithfulness is equivalent to $\\chi(g)=\\chi(e)\\Leftrightarrow g = e$ we just need to check which 2-dimensional irreducible characters  have only one \"2\" in their row of values. Including non-irreducible reps we also need to check X.1+X.2 which is not faithful)."
   ]
  },
  {
   "cell_type": "code",
   "execution_count": 179,
   "metadata": {},
   "outputs": [
    {
     "data": {
      "text/plain": [
       "(48, 4, 3)"
      ]
     },
     "execution_count": 179,
     "metadata": {},
     "output_type": "execute_result"
    }
   ],
   "source": [
    "G1.Order(), G.1.Order(), G1.2.Order() #Orders of the generators of G1"
   ]
  },
  {
   "cell_type": "code",
   "execution_count": 180,
   "metadata": {},
   "outputs": [],
   "source": [
    "Irreps = G1.IrreducibleRepresentations()"
   ]
  },
  {
   "cell_type": "code",
   "execution_count": 181,
   "metadata": {},
   "outputs": [
    {
     "data": {
      "text/plain": [
       "[ [ [ [ Z(3), 0*Z(3) ], [ 0*Z(3), Z(3)^0 ] ], \n",
       "      [ [ Z(3), Z(3)^0 ], [ Z(3), 0*Z(3) ] ] ], \n",
       "  [ [ [ 0, 1 ], [ 1, 0 ] ], [ [ E(3), 0 ], [ 0, E(3)^2 ] ] ] ]"
      ]
     },
     "execution_count": 181,
     "metadata": {},
     "output_type": "execute_result"
    }
   ],
   "source": [
    "Irreps[3].MappingGeneratorsImages()"
   ]
  },
  {
   "cell_type": "code",
   "execution_count": 182,
   "metadata": {},
   "outputs": [
    {
     "data": {
      "text/plain": [
       "[ [ [ [ Z(3), 0*Z(3) ], [ 0*Z(3), Z(3)^0 ] ], \n",
       "      [ [ Z(3), Z(3)^0 ], [ Z(3), 0*Z(3) ] ] ], \n",
       "  [ [ [ -E(24)^11-E(24)^17, E(3) ], [ 2*E(3)+E(3)^2, E(24)^11+E(24)^17 ] ], \n",
       "      [ [ E(3), 0 ], [ E(24)^11+E(24)^17, E(3)^2 ] ] ] ]"
      ]
     },
     "execution_count": 182,
     "metadata": {},
     "output_type": "execute_result"
    }
   ],
   "source": [
    "Irreps[4].MappingGeneratorsImages()"
   ]
  },
  {
   "cell_type": "code",
   "execution_count": 183,
   "metadata": {},
   "outputs": [
    {
     "data": {
      "text/plain": [
       "[ [ [ [ Z(3), 0*Z(3) ], [ 0*Z(3), Z(3)^0 ] ], \n",
       "      [ [ Z(3), Z(3)^0 ], [ Z(3), 0*Z(3) ] ] ], \n",
       "  [ [ [ 0, -E(3)^2 ], [ -E(3), 0 ] ], \n",
       "      [ \n",
       "          [ 1/3*E(3)+2/3*E(3)^2, 2/3*E(24)+1/3*E(24)^11+1/3*E(24)^17+2/3*E(24)^19\n",
       "             ], \n",
       "          [ 1/3*E(24)+2/3*E(24)^11+2/3*E(24)^17+1/3*E(24)^19, \n",
       "              2/3*E(3)+1/3*E(3)^2 ] ] ] ]"
      ]
     },
     "execution_count": 183,
     "metadata": {},
     "output_type": "execute_result"
    }
   ],
   "source": [
    "Irreps[5].MappingGeneratorsImages()"
   ]
  },
  {
   "cell_type": "markdown",
   "metadata": {},
   "source": [
    "## Next we create Sage matrices corresponding to the Gap output above"
   ]
  },
  {
   "cell_type": "code",
   "execution_count": 184,
   "metadata": {},
   "outputs": [],
   "source": [
    "C1 = Matrix([ [ 0, z3^2 ], [ z3, 0 ] ]); D1 = Matrix([[ z3^2, 0 ], [ 0, z3] ] )"
   ]
  },
  {
   "cell_type": "code",
   "execution_count": 185,
   "metadata": {},
   "outputs": [],
   "source": [
    "C2= Matrix([[1/2*z24+1/2*z24^19, 1/2*z24-1/2*z24^11-1/2*z24^17+1/2*z24^19], [ -1/2*z24^11-1/2*z24^17, -1/2*z24-1/2*z24^19 ]]); \n",
    "D2 = Matrix([[ 0, -z3^2 ], [ z3, -1 ] ]  )"
   ]
  },
  {
   "cell_type": "code",
   "execution_count": 186,
   "metadata": {},
   "outputs": [],
   "source": [
    "C3 = Matrix([ [ 1/2*z8+1/2*z8^3, 1/2*z24-1/2*z24^11-1/2*z24^17+1/2*z24^19 ], [ 1/2*z24-1/2*z24^11-1/2*z24^17+1/2*z24^19, -1/2*z8-1/2*z8^3 ]]); \n",
    "D3 = Matrix([[ 0, -z3 ], [ z3^2, -1 ]] )"
   ]
  },
  {
   "cell_type": "code",
   "execution_count": 187,
   "metadata": {},
   "outputs": [
    {
     "name": "stdout",
     "output_type": "stream",
     "text": [
      "[1 0]\n",
      "[0 1]\n",
      "[1 0]\n",
      "[0 1]\n",
      "[1 0]\n",
      "[0 1]\n",
      "[1 0]\n",
      "[0 1]\n",
      "[1 0]\n",
      "[0 1]\n",
      "[1 0]\n",
      "[0 1]\n"
     ]
    }
   ],
   "source": [
    "#Test that the order of the matrices fit:\n",
    "print C1^2\n",
    "print D1^3\n",
    "print C2^2\n",
    "print D2^3\n",
    "print C3^2\n",
    "print D3^3"
   ]
  },
  {
   "cell_type": "code",
   "execution_count": 188,
   "metadata": {},
   "outputs": [
    {
     "name": "stdout",
     "output_type": "stream",
     "text": [
      "[-1, 1] [-1, 1] [-1, 1]\n"
     ]
    }
   ],
   "source": [
    "print [det(C1),det(D1)],[det(C2),det(D2)],[det(C3),det(D3)]"
   ]
  },
  {
   "cell_type": "markdown",
   "metadata": {},
   "source": [
    "# Above we see that no faithful irreducible 2-dimensional representation of $G_1$ lands in $\\mathrm{SL}_2(\\mathbb{C})$"
   ]
  },
  {
   "cell_type": "code",
   "execution_count": 189,
   "metadata": {},
   "outputs": [],
   "source": [
    "Irreps2=G2.IrreducibleRepresentations()"
   ]
  },
  {
   "cell_type": "code",
   "execution_count": 190,
   "metadata": {},
   "outputs": [
    {
     "data": {
      "text/plain": [
       "CT58\n",
       "\n",
       "     2  4  3  3  3  1  1  2  4\n",
       "     3  1  .  .  .  1  1  .  1\n",
       "\n",
       "       1a 8a 8b 4a 6a 3a 4b 2a\n",
       "\n",
       "X.1     1  1  1  1  1  1  1  1\n",
       "X.2     1 -1 -1  1  1  1 -1  1\n",
       "X.3     2  .  .  2 -1 -1  .  2\n",
       "X.4     2  A -A  .  1 -1  . -2\n",
       "X.5     2 -A  A  .  1 -1  . -2\n",
       "X.6     3 -1 -1 -1  .  .  1  3\n",
       "X.7     3  1  1 -1  .  . -1  3\n",
       "X.8     4  .  .  . -1  1  . -4\n",
       "\n",
       "A = E(8)-E(8)^3\n",
       "  = Sqrt(2) = r2"
      ]
     },
     "execution_count": 190,
     "metadata": {},
     "output_type": "execute_result"
    }
   ],
   "source": [
    "T2=G2.CharacterTable(); T2.Display()"
   ]
  },
  {
   "cell_type": "markdown",
   "metadata": {},
   "source": [
    "# From the above Character table we conclude that the binary octahedral group $G_2$ has two faithful two-dimensional representations (since faithfulness is equivalent to $\\chi(g)=\\chi(e)\\Leftrightarrow g = e$."
   ]
  },
  {
   "cell_type": "code",
   "execution_count": 191,
   "metadata": {},
   "outputs": [
    {
     "data": {
      "text/plain": [
       "[ [ [ [ 0*Z(3), Z(3) ], [ Z(3)^0, Z(3^2)^6 ] ], \n",
       "      [ [ Z(3^2)^2, 0*Z(3) ], [ 0*Z(3), Z(3^2)^6 ] ] ], \n",
       "  [ [ [ -1, -1 ], [ 0, 1 ] ], [ [ 0, 1 ], [ 1, 0 ] ] ] ]"
      ]
     },
     "execution_count": 191,
     "metadata": {},
     "output_type": "execute_result"
    }
   ],
   "source": [
    "Irreps2[3].MappingGeneratorsImages()"
   ]
  },
  {
   "cell_type": "code",
   "execution_count": 192,
   "metadata": {},
   "outputs": [
    {
     "data": {
      "text/plain": [
       "[ [ [ [ 0*Z(3), Z(3) ], [ Z(3)^0, Z(3^2)^6 ] ], \n",
       "      [ [ Z(3^2)^2, 0*Z(3) ], [ 0*Z(3), Z(3^2)^6 ] ] ], \n",
       "  [ [ [ 0, -E(8)^3 ], [ -E(8), -E(8)+E(8)^3 ] ], \n",
       "      [ [ E(8), -E(8)^3 ], [ -E(8)-E(8)^3, -E(8) ] ] ] ]"
      ]
     },
     "execution_count": 192,
     "metadata": {},
     "output_type": "execute_result"
    }
   ],
   "source": [
    "Irreps2[4].MappingGeneratorsImages()"
   ]
  },
  {
   "cell_type": "code",
   "execution_count": 193,
   "metadata": {},
   "outputs": [
    {
     "data": {
      "text/plain": [
       "[ [ [ [ 0*Z(3), Z(3) ], [ Z(3)^0, Z(3^2)^6 ] ], \n",
       "      [ [ Z(3^2)^2, 0*Z(3) ], [ 0*Z(3), Z(3^2)^6 ] ] ], \n",
       "  [ \n",
       "      [ [ 1/2*E(8)-1/2*E(8)^3, 1/2-1/2*E(4) ], \n",
       "          [ -1/2-1/2*E(4), 1/2*E(8)-1/2*E(8)^3 ] ], [ [ 0, 1 ], [ -1, 0 ] ] ] \n",
       " ]"
      ]
     },
     "execution_count": 193,
     "metadata": {},
     "output_type": "execute_result"
    }
   ],
   "source": [
    "Irreps2[5].MappingGeneratorsImages()"
   ]
  },
  {
   "cell_type": "code",
   "execution_count": 194,
   "metadata": {},
   "outputs": [
    {
     "data": {
      "text/plain": [
       "(8, 4)"
      ]
     },
     "execution_count": 194,
     "metadata": {},
     "output_type": "execute_result"
    }
   ],
   "source": [
    "G2.1.Order(), G2.2.Order() #Orders of the generators of G2"
   ]
  },
  {
   "cell_type": "code",
   "execution_count": null,
   "metadata": {},
   "outputs": [],
   "source": []
  },
  {
   "cell_type": "code",
   "execution_count": 199,
   "metadata": {},
   "outputs": [],
   "source": [
    "A1 = Matrix([ [ 0, 1 ], [ 1, 0 ] ]); B1=Matrix( [ [ 1, 0 ], [ -1, -1 ] ] )"
   ]
  },
  {
   "cell_type": "code",
   "execution_count": 200,
   "metadata": {},
   "outputs": [],
   "source": [
    "A2 = Matrix([ [ -z8, -z8^3 ], [ 0, z8^3 ] ]); B2 = Matrix([ [ -z8, -z8-z8^3 ], [ -z8^3, z8 ] ] )"
   ]
  },
  {
   "cell_type": "code",
   "execution_count": 201,
   "metadata": {},
   "outputs": [],
   "source": [
    "A3 = Matrix([ [ -z8^3, 1 ], [ 0, z8 ] ]);B3 = Matrix([ [ -z8^3, 1+z4 ], [ z4, z8^3 ] ])"
   ]
  },
  {
   "cell_type": "code",
   "execution_count": 202,
   "metadata": {},
   "outputs": [
    {
     "name": "stdout",
     "output_type": "stream",
     "text": [
      "[-1, -1] [1, 1] [1, 1]\n"
     ]
    }
   ],
   "source": [
    "print [det(A1),det(B1)],[det(A2),det(B2)],[det(A3),det(B3)]"
   ]
  },
  {
   "cell_type": "markdown",
   "metadata": {},
   "source": [
    "# Above we see that the two faithful representations of $G_2$ land in $\\mathrm{SL}_2(\\mathbb{C})$."
   ]
  }
 ],
 "metadata": {
  "kernelspec": {
   "display_name": "SageMath 8.9",
   "language": "sage",
   "name": "sagemath"
  },
  "language_info": {
   "codemirror_mode": {
    "name": "ipython",
    "version": 2
   },
   "file_extension": ".py",
   "mimetype": "text/x-python",
   "name": "python",
   "nbconvert_exporter": "python",
   "pygments_lexer": "ipython2",
   "version": "2.7.15"
  }
 },
 "nbformat": 4,
 "nbformat_minor": 2
}
