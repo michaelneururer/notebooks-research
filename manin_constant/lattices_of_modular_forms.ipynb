{
 "cells": [
  {
   "cell_type": "markdown",
   "metadata": {},
   "source": [
    "# This sage worksheet accompanies my paper  (joint with Abhishek Saha and Kęstutis Česnavičius)\n",
    "# <p style=\"text-align: center;\"> ['The Manin constant and the modular degree'](https://arxiv.org/abs/1911.09446) </p>"
   ]
  },
  {
   "cell_type": "markdown",
   "metadata": {},
   "source": [
    "# Lattices of modular forms\n",
    "Here we check that for $N=40$ and $N=80$, the lattices of modular forms $S_2(\\Gamma_0(N),\\mathbb Z)$ and $H^0(X_0(N),\\Omega)$ are not equal. If they were we would have been able to extend Proposition 6.10 and show that $X_0(N)$ has rational singularities for all levels $N$ with $\\mathrm{val}_2(N)=3$ and $\\mathrm{val}_2(N)=4$.\n",
    "\n",
    "### <font color =\"green\"> Requirements: SageMath and the function get_expansions from the python package [products-of-eisenstein-series](https://github.com/michaelneururer/products-of-eisenstein-series) (joint work with Martin Dickson) to calculate the Fourier expansions. </font>"
   ]
  },
  {
   "cell_type": "code",
   "execution_count": 3,
   "metadata": {},
   "outputs": [],
   "source": [
    "def hecke_basis_matrix(N,k=2):\n",
    "    r\"\"\"\n",
    "    INPUT: \n",
    "            - int N, level\n",
    "            - int k, weight\n",
    "    OUTPUT: Matrix that contains the Fourier expansions of the basis of normalised Hecke eigenforms of S_2(Gamma_0(N))\n",
    "    WARNING: This is only implemented if all Hecke eigenforms have rational Fourier coefficients.\n",
    "    \"\"\"\n",
    "    sturm = sturm_bound(N,k)\n",
    "    Pow.<q> = PowerSeriesRing(QQ)\n",
    "    res = []\n",
    "    for d in N.divisors():\n",
    "        try:\n",
    "            eigenspace = Newforms(d,k)\n",
    "        except ValueError:\n",
    "            raise NotImplementedError('This command only works if all Hecke eigenforms of level N are rational')\n",
    "        for n in eigenspace:\n",
    "            for m in ZZ(N/d).divisors():\n",
    "                res.append(map(lambda x: m^(k/2)*x,(n.qexp(sturm+1)(q^m)+O(q^(sturm+1))).padded_list()))\n",
    "    return Matrix(res)\n",
    "\n",
    "def cusp_form_basis_matrix(N,k=2):\n",
    "    r\"\"\"\n",
    "    INPUT: \n",
    "            - int N, level\n",
    "            - int k, weight\n",
    "    OUTPUT: Matrix that contains the Fourier expansiosn of the basis of cusp forms with integral Fourier coefficients produced by Sage\n",
    "    \"\"\"\n",
    "    sturm = sturm_bound(N,k)\n",
    "    return Matrix([c.coefficients(range(sturm+1)) for c in CuspForms(N,k).basis()])"
   ]
  },
  {
   "cell_type": "markdown",
   "metadata": {},
   "source": [
    "# The case N = 40"
   ]
  },
  {
   "cell_type": "code",
   "execution_count": 42,
   "metadata": {},
   "outputs": [
    {
     "name": "stdout",
     "output_type": "stream",
     "text": [
      "H_40 = \n",
      "[ 0  1  0 -2  0 -1  0  2  0  1  0  0  0]\n",
      "[ 0  0  2  0  0  0 -4  0  0  0 -2  0  0]\n",
      "[ 0  1  0  0  0  1  0 -4  0 -3  0  4  0]\n"
     ]
    }
   ],
   "source": [
    "H_40 = hecke_basis_matrix(40); \n",
    "print 'H_40 = '\n",
    "print H_40"
   ]
  },
  {
   "cell_type": "code",
   "execution_count": 43,
   "metadata": {},
   "outputs": [
    {
     "name": "stdout",
     "output_type": "stream",
     "text": [
      "e1 =  q + q^5 + O(q^6) , e2 =  q^2 + O(q^6) , e3 =  q^3 + q^5 + O(q^6)\n",
      "M_40 = \n",
      "[ 0  1  0  0  0  1  0 -4  0 -3  0  4  0]\n",
      "[ 0  0  1  0  0  0 -2  0  0  0 -1  0  0]\n",
      "[ 0  0  0  1  0  1  0 -3  0 -2  0  2  0]\n"
     ]
    }
   ],
   "source": [
    "e1,e2,e3 = CuspForms(40).basis();\n",
    "print 'e1 = ', e1, ', e2 = ', e2, ', e3 = ', e3\n",
    "M_40 = cusp_form_basis_matrix(40); \n",
    "print 'M_40 = '\n",
    "print M_40"
   ]
  },
  {
   "cell_type": "code",
   "execution_count": 44,
   "metadata": {},
   "outputs": [
    {
     "data": {
      "text/plain": [
       "[   0    0    1]\n",
       "[   0  1/2    0]\n",
       "[-1/2    0  1/2]"
      ]
     },
     "execution_count": 44,
     "metadata": {},
     "output_type": "execute_result"
    }
   ],
   "source": [
    "B_40 = H_40.solve_left(M_40); B_40"
   ]
  },
  {
   "cell_type": "code",
   "execution_count": 45,
   "metadata": {},
   "outputs": [
    {
     "data": {
      "text/plain": [
       "True"
      ]
     },
     "execution_count": 45,
     "metadata": {},
     "output_type": "execute_result"
    }
   ],
   "source": [
    "B_40*H_40 == M_40"
   ]
  },
  {
   "cell_type": "markdown",
   "metadata": {},
   "source": [
    "The matrix $H_{40}$ contains as rows the Fourier expansions of $g$, the newform of level $20$, $g_2 = 2g(q^2)$, and $f$, the newform of level $40$. The matrix $M_{40}$ contains the Fourier expansions of a basis $e_1 = q+O(q^4), e_2 = q^2 + O(q^4), e_3 = q^3 + O(q^4)$ of $S_2(\\Gamma_0(40),\\mathbb{Z})$.\n",
    "\n",
    "From the matrix $B_{40}$, that solves $B_{40}\\cdot H_{40} = M_{40}$ we can read off that $e_1 = f, e_2 = g_2$, and $e_3 = \\frac{f-g}{2}$."
   ]
  },
  {
   "cell_type": "markdown",
   "metadata": {},
   "source": [
    "Let $L = S_2(\\Gamma_0(40),\\mathbb{Z})$ and \n",
    "$$L' = \\mathbb{Z}g \\oplus \\mathbb{Z}g_2 \\oplus f\\subseteq H^0(X_0(40),\\Omega)\\subset S_2(\\Gamma_0(40),\\mathbb{Z}).$$\n",
    "In order to show $L' = H^0(X_0(40),\\Omega)$ it suffices to show $e_3\\notin H^0(X_0(40),\\Omega)$. We do this by applying Proposition 5.13 and that $v_2(e_3|_{1/2})=-2$."
   ]
  },
  {
   "cell_type": "code",
   "execution_count": 46,
   "metadata": {},
   "outputs": [
    {
     "name": "stdout",
     "output_type": "stream",
     "text": [
      "Calculating Fourier expansions for e1\n",
      "Expansion at cusp 1/2:\n",
      "1/10*zeta80^20*q10 + 1/10*zeta80^20*q10^5 + 2/5*zeta80^20*q10^7 - 3/10*zeta80^20*q10^9 - 2/5*zeta80^20*q10^11 - 1/5*zeta80^20*q10^13 + 1/5*zeta80^20*q10^17 - 2/5*zeta80^20*q10^19 - 2/5*zeta80^20*q10^23 + 1/10*zeta80^20*q10^25 - 1/5*zeta80^20*q10^29 + 4/5*zeta80^20*q10^31 + 2/5*zeta80^20*q10^35 + 3/5*zeta80^20*q10^37 - 3/5*zeta80^20*q10^41 + 4/5*zeta80^20*q10^43 - 3/10*zeta80^20*q10^45 - 2/5*zeta80^20*q10^47 + 9/10*zeta80^20*q10^49 + 3/5*zeta80^20*q10^53 - 2/5*zeta80^20*q10^55 + 2/5*zeta80^20*q10^59 - 1/5*zeta80^20*q10^61 - 6/5*zeta80^20*q10^63 - 1/5*zeta80^20*q10^65 - 4/5*zeta80^20*q10^67 - 3/5*zeta80^20*q10^73 - 8/5*zeta80^20*q10^77 + O(q10^80)\n",
      "\n",
      "Denominators Cusp 1/2\n",
      "[+Infinity, -1, +Infinity, +Infinity, +Infinity, -1, +Infinity, 1, +Infinity, -1]\n",
      "Minimal valuation -1\n",
      "Calculating Fourier expansions for e2\n",
      "Expansion at cusp 1/2:\n",
      "-1/20*zeta80^20*q10 - 1/10*zeta80^20*q10^3 + 1/20*zeta80^20*q10^5 + 1/10*zeta80^20*q10^7 - 1/20*zeta80^20*q10^9 - 1/10*zeta80^20*q10^13 + 1/10*zeta80^20*q10^15 + 3/10*zeta80^20*q10^17 - 1/5*zeta80^20*q10^19 + 1/5*zeta80^20*q10^21 + 3/10*zeta80^20*q10^23 - 1/20*zeta80^20*q10^25 + 1/5*zeta80^20*q10^27 - 3/10*zeta80^20*q10^29 - 1/5*zeta80^20*q10^31 - 1/10*zeta80^20*q10^35 - 1/10*zeta80^20*q10^37 - 1/5*zeta80^20*q10^39 - 3/10*zeta80^20*q10^41 - 1/2*zeta80^20*q10^43 + 1/20*zeta80^20*q10^45 - 3/10*zeta80^20*q10^47 + 3/20*zeta80^20*q10^49 + 3/5*zeta80^20*q10^51 + 3/10*zeta80^20*q10^53 - 2/5*zeta80^20*q10^57 + 3/5*zeta80^20*q10^59 - 1/10*zeta80^20*q10^61 + 1/10*zeta80^20*q10^63 + 1/10*zeta80^20*q10^65 + 1/10*zeta80^20*q10^67 + 3/5*zeta80^20*q10^69 - 3/5*zeta80^20*q10^71 - 1/10*zeta80^20*q10^73 - 1/10*zeta80^20*q10^75 + 2/5*zeta80^20*q10^79 + O(q10^80)\n",
      "\n",
      "Denominators Cusp 1/2\n",
      "[+Infinity, -2, +Infinity, -1, +Infinity, -2, +Infinity, -1, +Infinity, -2]\n",
      "Minimal valuation -2\n",
      "Calculating Fourier expansions for e3\n",
      "Expansion at cusp 1/2:\n",
      "1/20*zeta80^20*q10 + 1/10*q10^2 + 1/20*zeta80^20*q10^5 - 1/5*q10^6 + 1/5*zeta80^20*q10^7 - 3/20*zeta80^20*q10^9 - 1/10*q10^10 - 1/5*zeta80^20*q10^11 - 1/10*zeta80^20*q10^13 + 1/5*q10^14 + 1/10*zeta80^20*q10^17 + 1/10*q10^18 - 1/5*zeta80^20*q10^19 - 1/5*zeta80^20*q10^23 + 1/20*zeta80^20*q10^25 + 1/5*q10^26 - 1/10*zeta80^20*q10^29 + 1/5*q10^30 + 2/5*zeta80^20*q10^31 - 3/5*q10^34 + 1/5*zeta80^20*q10^35 + 3/10*zeta80^20*q10^37 - 2/5*q10^38 - 3/10*zeta80^20*q10^41 - 2/5*q10^42 + 2/5*zeta80^20*q10^43 - 3/20*zeta80^20*q10^45 + 3/5*q10^46 - 1/5*zeta80^20*q10^47 + 9/20*zeta80^20*q10^49 + 1/10*q10^50 + 3/10*zeta80^20*q10^53 + 2/5*q10^54 - 1/5*zeta80^20*q10^55 + 3/5*q10^58 + 1/5*zeta80^20*q10^59 - 1/10*zeta80^20*q10^61 - 2/5*q10^62 - 3/5*zeta80^20*q10^63 - 1/10*zeta80^20*q10^65 - 2/5*zeta80^20*q10^67 - 1/5*q10^70 - 3/10*zeta80^20*q10^73 + 1/5*q10^74 - 4/5*zeta80^20*q10^77 - 2/5*q10^78 + O(q10^80)\n",
      "\n",
      "Denominators Cusp 1/2\n",
      "[+Infinity, -2, -1, +Infinity, +Infinity, -2, 0, 0, +Infinity, -2]\n",
      "Minimal valuation -2\n",
      "All valuations at 1/2\n",
      "[-1, -2, -2]\n"
     ]
    }
   ],
   "source": [
    "count = 1\n",
    "valuations_12 = []\n",
    "for e in [e1,e2,e3]:\n",
    "    print 'Calculating Fourier expansions for e{}'.format(count)\n",
    "    print 'Expansion at cusp 1/2:'\n",
    "    s2 = get_expansion(e, mat = Matrix(2,2,[1,2,2,5]),prec=8);\n",
    "    print s2\n",
    "    K2 = s2.series.base_ring() #Number field\n",
    "    P2 = K2.prime_above(2)\n",
    "    print('Denominators Cusp 1/2')\n",
    "    print [valuation(s2[i],P2)/P2.ramification_index() for i in range(10)]\n",
    "    print 'Minimal valuation', min([valuation(s2[i],P2)/P2.ramification_index() for i in range(10)])\n",
    "    valuations_12.append(min([valuation(s2[i],P2)/P2.ramification_index() for i in range(10)]))\n",
    "    count+=1\n",
    "print 'All valuations at 1/2'\n",
    "print valuations_12"
   ]
  },
  {
   "cell_type": "markdown",
   "metadata": {},
   "source": [
    "We check that $e_2+e_3$ is in $H^0(X_0(40),\\Omega)$"
   ]
  },
  {
   "cell_type": "code",
   "execution_count": 69,
   "metadata": {},
   "outputs": [
    {
     "name": "stdout",
     "output_type": "stream",
     "text": [
      "-1/40*q40 + 1/40*q40^2 + 1/40*q40^3 - 1/20*q40^6 + 1/40*q40^7 + 1/40*q40^9 - 1/40*q40^10 - 1/20*q40^11 + 1/20*q40^14 - 1/40*q40^15 + 1/20*q40^17 + 1/40*q40^18 + 1/20*q40^21 - 1/8*q40^23 - 1/40*q40^25 + 1/20*q40^26 - 1/20*q40^27 - 1/20*q40^29 + 1/20*q40^30 + 3/20*q40^31 - 3/20*q40^34 + 3/40*q40^35 - 1/10*q40^37 - 1/10*q40^38 + 1/20*q40^39 - 1/10*q40^42 + 9/40*q40^43 + 1/20*q40^45 + 3/20*q40^46 + 1/40*q40^47 - 3/40*q40^49 + 1/40*q40^50 - 3/20*q40^51 + 1/10*q40^54 - 1/20*q40^55 - 1/10*q40^57 + 3/20*q40^58 - 1/10*q40^59 - 1/10*q40^62 - 7/40*q40^63 + 1/20*q40^65 - 1/8*q40^67 + 3/20*q40^69 - 1/20*q40^70 + 3/20*q40^71 + 1/20*q40^73 + 1/20*q40^74 + 1/40*q40^75 + 1/5*q40^77 - 1/10*q40^78 - 1/10*q40^79 + O(q40^80)\n",
      "\n",
      "Denominator at 0\n",
      "-3\n",
      "-1/10*zeta80^8*q10^2 + 1/10*zeta80^12*q10^3 + 1/10*zeta80^20*q10^5 + 1/5*zeta80^24*q10^6 - 3/10*zeta80^28*q10^7 + (-1/5*zeta80^28 + 1/5*zeta80^20 - 1/5*zeta80^12 + 1/5*zeta80^4)*q10^9 - 1/10*q10^10 - 1/5*zeta80^4*q10^11 + 1/5*zeta80^12*q10^13 + 1/5*zeta80^16*q10^14 + 1/10*zeta80^20*q10^15 - 2/5*zeta80^28*q10^17 + (1/10*zeta80^24 - 1/10*zeta80^16 + 1/10*zeta80^8 - 1/10)*q10^18 + (-2/5*zeta80^28 + 2/5*zeta80^20 - 2/5*zeta80^12 + 2/5*zeta80^4)*q10^19 + O(q10^20)\n",
      "\n",
      "Denominator at 1/2\n",
      "-1\n",
      "1/5*zeta80^8*q5^2 + (1/5*zeta80^24 - 1/5*zeta80^16 + 1/5*zeta80^8 - 1/5)*q5^3 + 1/5*q5^5 - 2/5*zeta80^24*q5^6 + 3/5*zeta80^8*q5^7 - 2/5*zeta80^16*q5^9 + O(q5^10)\n",
      "\n",
      "Denominator at 1/4\n",
      "0\n",
      "-1/5*q5 + 1/5*q5^2 + 1/5*q5^3 - 2/5*q5^6 + 1/5*q5^7 + 1/5*q5^9 + O(q5^10)\n",
      "\n",
      "Denominator at 1/8\n",
      "0\n"
     ]
    }
   ],
   "source": [
    "s0 = get_expansion(e2+e3, mat = Matrix(2,2,[0,1,-1,0])); print s0\n",
    "K0 = s0.series.base_ring() #Number field\n",
    "P0 = K0.prime_above(2)\n",
    "print 'Denominator at 0'\n",
    "print min([valuation(s0[i],P0)/P0.ramification_index() for i in range(10)])\n",
    "s2 = get_expansion(e2+e3, mat = Matrix(2,2,[1,0,2,1])); print s2\n",
    "K2 = s2.series.base_ring() #Number field\n",
    "P2 = K2.prime_above(2)\n",
    "print 'Denominator at 1/2'\n",
    "print min([valuation(s2[i],P2)/P2.ramification_index() for i in range(10)])\n",
    "s4 = get_expansion(e2+e3, mat = Matrix(2,2,[1,0,4,1])); print s4\n",
    "K4 = s4.series.base_ring() #Number field\n",
    "P4 = K4.prime_above(2)\n",
    "print 'Denominator at 1/4'\n",
    "print min([valuation(s4[i],P4)/P4.ramification_index() for i in range(10)])\n",
    "s8 = get_expansion(e2+e3, mat = Matrix(2,2,[5,3,8,5])); print s8\n",
    "K8 = s8.series.base_ring() #Number field\n",
    "P8 = K8.prime_above(2)\n",
    "print 'Denominator at 1/8'\n",
    "print min([valuation(s8[i],P8)/P8.ramification_index() for i in range(10)])"
   ]
  },
  {
   "cell_type": "markdown",
   "metadata": {},
   "source": [
    "# The case N = 80\n",
    "We repeat the same calculations as before"
   ]
  },
  {
   "cell_type": "code",
   "execution_count": 12,
   "metadata": {},
   "outputs": [
    {
     "name": "stdout",
     "output_type": "stream",
     "text": [
      "H_80 = \n",
      "[ 0  1  0 -2  0 -1  0  2  0  1  0  0  0  2  0  2  0 -6  0 -4  0 -4  0  6  0]\n",
      "[ 0  0  2  0  0  0 -4  0  0  0 -2  0  0  0  4  0  0  0  2  0  0  0  0  0  0]\n",
      "[ 0  0  0  0  4  0  0  0  0  0  0  0 -8  0  0  0  0  0  0  0 -4  0  0  0  0]\n",
      "[ 0  1  0  0  0  1  0 -4  0 -3  0  4  0 -2  0  0  0  2  0  4  0  0  0  4  0]\n",
      "[ 0  0  2  0  0  0  0  0  0  0  2  0  0  0 -8  0  0  0 -6  0  0  0  8  0  0]\n",
      "[ 0  1  0  0  0  1  0  4  0 -3  0 -4  0 -2  0  0  0  2  0 -4  0  0  0 -4  0]\n",
      "[ 0  1  0  2  0 -1  0 -2  0  1  0  0  0  2  0 -2  0 -6  0  4  0 -4  0 -6  0]\n",
      "f1 =  q - q^9 + O(q^10) , f2 =  q^2 + O(q^10) , f3 =  q^3 + O(q^10)\n",
      "f4 =  q^4 + O(q^10) , f5 =  q^5 - 2*q^9 + O(q^10) , f6 =  q^6 + O(q^10) , f7 =  q^7 + O(q^10)\n",
      "M_80 = \n",
      "[ 0  1  0  0  0  0  0  0  0 -1  0  0  0  0  0  0  0 -2  0  0  0 -2  0  0  0]\n",
      "[ 0  0  1  0  0  0  0  0  0  0  1  0  0  0 -4  0  0  0 -3  0  0  0  4  0  0]\n",
      "[ 0  0  0  1  0  0  0  0  0  0  0 -1  0  0  0 -1  0  0  0  1  0  0  0 -4  0]\n",
      "[ 0  0  0  0  1  0  0  0  0  0  0  0 -2  0  0  0  0  0  0  0 -1  0  0  0  0]\n",
      "[ 0  0  0  0  0  1  0  0  0 -2  0  0  0 -2  0  0  0  4  0  0  0  2  0  0  0]\n",
      "[ 0  0  0  0  0  0  1  0  0  0  1  0  0  0 -3  0  0  0 -2  0  0  0  2  0  0]\n",
      "[ 0  0  0  0  0  0  0  1  0  0  0 -1  0  0  0  0  0  0  0 -1  0  0  0 -1  0]\n",
      "B_80 = \n",
      "[ 1/4    0    0  1/4    0  1/4  1/4]\n",
      "[   0    0    0    0  1/2    0    0]\n",
      "[-1/4    0    0 -1/8    0  1/8  1/4]\n",
      "[   0    0  1/4    0    0    0    0]\n",
      "[-1/4    0    0  1/4    0  1/4 -1/4]\n",
      "[   0 -1/4    0    0  1/4    0    0]\n",
      "[   0    0    0 -1/8    0  1/8    0]\n"
     ]
    }
   ],
   "source": [
    "H_80 = hecke_basis_matrix(80); \n",
    "print 'H_80 = '\n",
    "print H_80\n",
    "f1,f2,f3,f4,f5,f6,f7 = CuspForms(80, prec = 10).basis();\n",
    "print 'f1 = ', f1, ', f2 = ', f2, ', f3 = ', f3\n",
    "print 'f4 = ', f4, ', f5 = ', f5, ', f6 = ', f6, ', f7 = ', f7\n",
    "M_80 = cusp_form_basis_matrix(80); \n",
    "print 'M_80 = '\n",
    "print M_80\n",
    "B_80 = H_80.solve_left(M_80); \n",
    "print 'B_80 = '\n",
    "print B_80"
   ]
  },
  {
   "cell_type": "markdown",
   "metadata": {},
   "source": [
    "None of the forms $f_i$ are in $H^0(X_0(80),\\Omega)$. But $2f_1,2f_2,8f_3,4f_4,2f_5,4f_6,8f_7$ are. As can be seen from the calculation below (the last few lines after 'SUMMARY' suffice)"
   ]
  },
  {
   "cell_type": "code",
   "execution_count": 68,
   "metadata": {},
   "outputs": [
    {
     "name": "stdout",
     "output_type": "stream",
     "text": [
      "Calculating Fourier expansions for f1\n",
      "Expansion at cusp 0:\n",
      "-1/160*q80 - 1/160*q80^2 - 1/160*q80^3 - 1/80*q80^4 - 1/160*q80^7 + 1/160*q80^9 - 1/160*q80^10 + 1/80*q80^11 + 1/40*q80^12 + 1/40*q80^14 + 1/160*q80^15 + 1/80*q80^17 + 3/160*q80^18 + 1/80*q80^20 + 1/80*q80^21 - 1/40*q80^22 + 1/32*q80^23 - 1/160*q80^25 + 1/80*q80^26 + 1/80*q80^27 - 1/40*q80^28 - 1/80*q80^29 - 3/80*q80^31 - 1/80*q80^34 - 3/160*q80^35 - 1/80*q80^36 - 1/40*q80^37 - 1/40*q80^38 - 1/80*q80^39 - 9/160*q80^43 + 1/80*q80^45 - 1/40*q80^46 - 1/160*q80^47 - 3/160*q80^49 - 1/160*q80^50 + 3/80*q80^51 - 1/40*q80^52 + 1/80*q80^55 - 1/40*q80^57 + 1/80*q80^58 + 1/40*q80^59 - 1/40*q80^60 + 1/20*q80^62 + 7/160*q80^63 + 1/80*q80^65 + 1/32*q80^67 + 3/40*q80^68 + 3/80*q80^69 + 1/40*q80^70 - 3/80*q80^71 + 1/80*q80^73 - 3/80*q80^74 - 1/160*q80^75 + 1/20*q80^76 + 1/20*q80^77 + 1/40*q80^79 + 1/160*q80^81 + 3/80*q80^82 - 1/32*q80^83 + 1/20*q80^84 - 1/40*q80^85 + 1/20*q80^86 - 3/80*q80^87 + 3/80*q80^89 + 3/160*q80^90 + 3/80*q80^91 - 3/40*q80^92 - 1/40*q80^93 - 1/40*q80^94 + 1/40*q80^95 + 3/80*q80^97 - 9/160*q80^98 - 3/80*q80^99 - 1/80*q80^100 - 3/80*q80^101 + 9/160*q80^103 - 1/80*q80^105 - 3/80*q80^106 - 3/160*q80^107 - 1/20*q80^108 - 1/20*q80^109 - 1/40*q80^110 - 1/80*q80^111 - 3/80*q80^113 - 1/160*q80^115 - 3/40*q80^116 - 1/40*q80^117 + 1/40*q80^118 - 1/16*q80^119 + 3/160*q80^121 + 1/80*q80^122 - 3/80*q80^123 + 1/20*q80^124 - 3/40*q80^126 - 1/32*q80^127 - 1/16*q80^129 + 1/80*q80^130 + 3/80*q80^131 + 3/40*q80^133 - 1/20*q80^134 - 1/80*q80^135 - 7/80*q80^137 + 1/40*q80^139 + 1/40*q80^140 - 3/80*q80^141 - 1/40*q80^143 + 1/40*q80^145 + 3/80*q80^146 + 3/160*q80^147 - 1/40*q80^148 + 1/20*q80^149 + 1/80*q80^151 + 3/80*q80^153 + 1/10*q80^154 - 1/80*q80^155 + 1/20*q80^156 + 3/40*q80^157 + 3/80*q80^159 + O(q80^160)\n",
      "\n",
      "Denominators Cusp 0\n",
      "[+Infinity, -5, -5, -5, -4, +Infinity, +Infinity, -5, +Infinity, -5]\n",
      "Minimal valuation -5\n",
      "Expansion at cusp 1/2:\n",
      "1/40*zeta160^20*q20 + 1/40*zeta160^40*q20^2 + 1/40*zeta160^60*q20^3 - 1/20*q20^4 - 1/40*zeta160^60*q20^7 - 1/40*zeta160^20*q20^9 + 1/40*zeta160^40*q20^10 - 1/20*zeta160^60*q20^11 + 1/10*q20^12 + 1/10*zeta160^40*q20^14 + 1/40*zeta160^60*q20^15 - 1/20*zeta160^20*q20^17 - 3/40*zeta160^40*q20^18 + 1/20*q20^20 + 1/20*zeta160^20*q20^21 - 1/10*zeta160^40*q20^22 + 1/8*zeta160^60*q20^23 + 1/40*zeta160^20*q20^25 - 1/20*zeta160^40*q20^26 - 1/20*zeta160^60*q20^27 - 1/10*q20^28 - 1/20*zeta160^20*q20^29 - 3/20*zeta160^60*q20^31 + 1/20*zeta160^40*q20^34 + 3/40*zeta160^60*q20^35 - 1/20*q20^36 - 1/10*zeta160^20*q20^37 - 1/10*zeta160^40*q20^38 - 1/20*zeta160^60*q20^39 + O(q20^40)\n",
      "\n",
      "Denominators Cusp 1/2\n",
      "[+Infinity, -3, -3, -3, -2, +Infinity, +Infinity, -3, +Infinity, -3]\n",
      "Minimal valuation -3\n",
      "Expansion at cusp 1/4:\n",
      "1/10*q5 + 1/10*zeta160^40*q5^2 - 1/10*q5^3 - 1/5*zeta160^40*q5^4 - 1/10*q5^7 - 1/10*q5^9 + O(q5^10)\n",
      "\n",
      "Denominators Cusp 1/4\n",
      "[+Infinity, -1, -1, -1, 0, +Infinity, +Infinity, -1, +Infinity, -1]\n",
      "Minimal valuation -1\n",
      "-1/5*zeta160^32*q5^3 - 3/5*zeta160^48*q5^7 + O(q5^10)\n",
      "\n",
      "Denominators Cusp 1/8\n",
      "[+Infinity, +Infinity, +Infinity, 0, +Infinity, +Infinity, +Infinity, 0, +Infinity, +Infinity]\n",
      "Minimal valuation 0\n",
      "Calculating Fourier expansions for f2\n",
      "Expansion at cusp 0:\n",
      "-1/160*q80 - 1/160*q80^5 + 1/40*q80^7 + 3/160*q80^9 - 1/40*q80^11 + 1/80*q80^13 - 1/80*q80^17 - 1/40*q80^19 - 1/40*q80^23 - 1/160*q80^25 + 1/80*q80^29 + 1/20*q80^31 + 1/40*q80^35 - 3/80*q80^37 + 3/80*q80^41 + 1/20*q80^43 + 3/160*q80^45 - 1/40*q80^47 - 9/160*q80^49 - 3/80*q80^53 - 1/40*q80^55 + 1/40*q80^59 + 1/80*q80^61 - 3/40*q80^63 + 1/80*q80^65 - 1/20*q80^67 + 3/80*q80^73 + 1/10*q80^77 - 9/160*q80^81 + 1/10*q80^83 - 1/80*q80^85 + 3/80*q80^89 - 1/20*q80^91 - 1/40*q80^95 + 7/80*q80^97 + 3/40*q80^99 - 3/80*q80^101 - 1/40*q80^103 - 7/80*q80^109 - 9/80*q80^113 - 1/40*q80^115 - 3/80*q80^117 + 1/20*q80^119 - 1/32*q80^121 - 1/160*q80^125 + 3/40*q80^127 - 3/40*q80^131 + 1/10*q80^133 - 1/16*q80^137 - 3/40*q80^139 + 1/20*q80^143 + 1/80*q80^145 + 1/16*q80^149 + 1/10*q80^151 + 3/80*q80^153 + 1/20*q80^155 + 1/80*q80^157 + O(q80^160)\n",
      "\n",
      "Denominators Cusp 0\n",
      "[+Infinity, -5, +Infinity, +Infinity, +Infinity, -5, +Infinity, -3, +Infinity, -5]\n",
      "Minimal valuation -5\n",
      "Expansion at cusp 1/2:\n",
      "-1/40*zeta160^20*q20 + 1/40*zeta160^20*q20^5 - 1/10*zeta160^60*q20^7 + 3/40*zeta160^20*q20^9 - 1/10*zeta160^60*q20^11 - 1/20*zeta160^20*q20^13 - 1/20*zeta160^20*q20^17 - 1/10*zeta160^60*q20^19 + 1/10*zeta160^60*q20^23 - 1/40*zeta160^20*q20^25 - 1/20*zeta160^20*q20^29 - 1/5*zeta160^60*q20^31 + 1/10*zeta160^60*q20^35 + 3/20*zeta160^20*q20^37 + O(q20^40)\n",
      "\n",
      "Denominators Cusp 1/2\n",
      "[+Infinity, -3, +Infinity, +Infinity, +Infinity, -3, +Infinity, -1, +Infinity, -3]\n",
      "Minimal valuation -3\n",
      "Expansion at cusp 1/4:\n",
      "1/10*zeta160^40*q5 + 1/10*zeta160^40*q5^5 + 2/5*zeta160^40*q5^7 - 3/10*zeta160^40*q5^9 + O(q5^10)\n",
      "\n",
      "Denominators Cusp 1/4\n",
      "[+Infinity, -1, +Infinity, +Infinity, +Infinity, -1, +Infinity, 1, +Infinity, -1]\n",
      "Minimal valuation -1\n",
      "-1/5*zeta160^48*q5^2 + O(q5^10)\n",
      "\n",
      "Denominators Cusp 1/8\n",
      "[+Infinity, +Infinity, 0, +Infinity, +Infinity, +Infinity, +Infinity, +Infinity, +Infinity, +Infinity]\n",
      "Minimal valuation 0\n",
      "Calculating Fourier expansions for f3\n",
      "Expansion at cusp 0:\n",
      "-3/640*q80 + 1/320*q80^2 - 1/160*q80^3 + 1/80*q80^4 + 1/640*q80^5 + 1/640*q80^9 + 1/320*q80^10 + 1/160*q80^11 - 1/40*q80^12 - 1/320*q80^13 - 1/80*q80^14 + 1/160*q80^15 + 1/64*q80^17 - 3/320*q80^18 - 1/160*q80^19 - 1/80*q80^20 + 1/80*q80^21 + 1/80*q80^22 + 1/40*q80^23 - 3/640*q80^25 - 1/160*q80^26 + 1/80*q80^27 + 1/40*q80^28 - 1/64*q80^29 - 1/40*q80^31 + 1/160*q80^34 - 1/80*q80^35 + 1/80*q80^36 - 1/64*q80^37 + 1/80*q80^38 - 1/80*q80^39 - 3/320*q80^41 - 7/160*q80^43 + 1/128*q80^45 + 1/80*q80^46 - 1/80*q80^47 - 3/640*q80^49 + 1/320*q80^50 + 3/80*q80^51 + 1/40*q80^52 + 3/320*q80^53 + 1/160*q80^55 - 1/40*q80^57 - 1/160*q80^58 + 1/32*q80^59 + 1/40*q80^60 - 1/320*q80^61 - 1/40*q80^62 + 1/40*q80^63 + 3/320*q80^65 + 3/160*q80^67 - 3/40*q80^68 + 3/80*q80^69 - 1/80*q80^70 - 3/80*q80^71 + 1/320*q80^73 + 3/160*q80^74 - 1/160*q80^75 - 1/20*q80^76 + 1/40*q80^77 + 1/40*q80^79 + 13/640*q80^81 - 3/160*q80^82 - 1/160*q80^83 - 1/20*q80^84 - 7/320*q80^85 - 1/40*q80^86 - 3/80*q80^87 + 9/320*q80^89 - 3/320*q80^90 + 1/40*q80^91 + 3/40*q80^92 - 1/40*q80^93 + 1/80*q80^94 + 3/160*q80^95 + 1/64*q80^97 + 9/320*q80^98 - 3/160*q80^99 + 1/80*q80^100 - 9/320*q80^101 + 1/20*q80^103 - 1/80*q80^105 + 3/160*q80^106 - 3/160*q80^107 + 1/20*q80^108 - 9/320*q80^109 + 1/80*q80^110 - 1/80*q80^111 - 3/320*q80^113 - 1/80*q80^115 + 3/40*q80^116 - 1/64*q80^117 - 1/80*q80^118 - 1/20*q80^119 + 17/640*q80^121 - 1/160*q80^122 - 3/80*q80^123 - 1/20*q80^124 + 1/640*q80^125 + 3/80*q80^126 - 1/80*q80^127 - 1/16*q80^129 - 1/160*q80^130 + 3/160*q80^131 + 1/20*q80^133 + 1/40*q80^134 - 1/80*q80^135 - 23/320*q80^137 + 1/160*q80^139 - 1/40*q80^140 - 3/80*q80^141 - 1/80*q80^143 + 7/320*q80^145 - 3/160*q80^146 + 3/160*q80^147 + 1/40*q80^148 + 11/320*q80^149 + 3/80*q80^151 + 9/320*q80^153 - 1/20*q80^154 - 1/20*q80^156 + 23/320*q80^157 + 3/80*q80^159 + O(q80^160)\n",
      "\n",
      "Denominators Cusp 0\n",
      "[+Infinity, -7, -6, -5, -4, -7, +Infinity, +Infinity, +Infinity, -7]\n",
      "Minimal valuation -7\n",
      "Expansion at cusp 1/2:\n",
      "3/160*zeta160^20*q20 - 1/80*zeta160^40*q20^2 + 1/40*zeta160^60*q20^3 + 1/20*q20^4 + 1/160*zeta160^20*q20^5 - 1/160*zeta160^20*q20^9 - 1/80*zeta160^40*q20^10 - 1/40*zeta160^60*q20^11 - 1/10*q20^12 - 1/80*zeta160^20*q20^13 - 1/20*zeta160^40*q20^14 + 1/40*zeta160^60*q20^15 - 1/16*zeta160^20*q20^17 + 3/80*zeta160^40*q20^18 + 1/40*zeta160^60*q20^19 - 1/20*q20^20 + 1/20*zeta160^20*q20^21 + 1/20*zeta160^40*q20^22 + 1/10*zeta160^60*q20^23 + 3/160*zeta160^20*q20^25 + 1/40*zeta160^40*q20^26 - 1/20*zeta160^60*q20^27 + 1/10*q20^28 - 1/16*zeta160^20*q20^29 - 1/10*zeta160^60*q20^31 - 1/40*zeta160^40*q20^34 + 1/20*zeta160^60*q20^35 + 1/20*q20^36 - 1/16*zeta160^20*q20^37 + 1/20*zeta160^40*q20^38 - 1/20*zeta160^60*q20^39 + O(q20^40)\n",
      "\n",
      "Denominators Cusp 1/2\n",
      "[+Infinity, -5, -4, -3, -2, -5, +Infinity, +Infinity, +Infinity, -5]\n",
      "Minimal valuation -5\n",
      "Expansion at cusp 1/4:\n",
      "-3/40*q5 + 1/20*zeta160^40*q5^2 + 1/10*q5^3 - 1/5*zeta160^40*q5^4 + 1/40*q5^5 + 1/40*q5^9 + O(q5^10)\n",
      "\n",
      "Denominators Cusp 1/4\n",
      "[+Infinity, -3, -2, -1, 0, -3, +Infinity, +Infinity, +Infinity, -3]\n",
      "Minimal valuation -3\n",
      "(-1/20*zeta160^48 + 1/20*zeta160^32 - 1/20*zeta160^16 + 1/20)*q5 + 3/20*q5^5 + 1/4*zeta160^16*q5^9 + O(q5^10)\n",
      "\n",
      "Denominators Cusp 1/8\n",
      "[+Infinity, -2, +Infinity, +Infinity, +Infinity, -2, +Infinity, +Infinity, +Infinity, -2]\n",
      "Minimal valuation -2\n",
      "Calculating Fourier expansions for f4\n",
      "Expansion at cusp 0:\n"
     ]
    },
    {
     "name": "stdout",
     "output_type": "stream",
     "text": [
      "-1/320*q80 + 1/160*q80^3 + 1/320*q80^5 - 1/160*q80^7 - 1/320*q80^9 - 1/160*q80^13 - 1/160*q80^15 + 3/160*q80^17 + 1/80*q80^19 + 1/80*q80^21 - 3/160*q80^23 - 1/320*q80^25 - 1/80*q80^27 - 3/160*q80^29 + 1/80*q80^31 + 1/160*q80^35 - 1/160*q80^37 + 1/80*q80^39 - 3/160*q80^41 + 1/32*q80^43 + 1/320*q80^45 + 3/160*q80^47 + 3/320*q80^49 - 3/80*q80^51 + 3/160*q80^53 - 1/40*q80^57 - 3/80*q80^59 - 1/160*q80^61 - 1/160*q80^63 + 1/160*q80^65 - 1/160*q80^67 + 3/80*q80^69 + 3/80*q80^71 - 1/160*q80^73 + 1/160*q80^75 - 1/40*q80^79 + 11/320*q80^81 - 3/160*q80^83 - 3/160*q80^85 + 3/80*q80^87 + 3/160*q80^89 - 1/80*q80^91 - 1/40*q80^93 - 1/80*q80^95 - 1/160*q80^97 - 3/160*q80^101 - 7/160*q80^103 - 1/80*q80^105 + 3/160*q80^107 - 1/160*q80^109 + 1/80*q80^111 + 3/160*q80^113 + 3/160*q80^115 - 1/160*q80^117 + 3/80*q80^119 + 11/320*q80^121 + 3/80*q80^123 + 1/320*q80^125 - 1/160*q80^127 - 1/16*q80^129 + 1/40*q80^133 + 1/80*q80^135 - 9/160*q80^137 + 1/80*q80^139 - 3/80*q80^141 + 3/160*q80^145 - 3/160*q80^147 + 3/160*q80^149 - 1/16*q80^151 + 3/160*q80^153 - 1/80*q80^155 + 11/160*q80^157 - 3/80*q80^159 + O(q80^160)\n",
      "\n",
      "Denominators Cusp 0\n",
      "[+Infinity, -6, +Infinity, -5, +Infinity, -6, +Infinity, -5, +Infinity, -6]\n",
      "Minimal valuation -6\n",
      "Expansion at cusp 1/2:\n",
      "-1/80*zeta160^20*q20 + 1/40*zeta160^60*q20^3 - 1/80*zeta160^20*q20^5 + 1/40*zeta160^60*q20^7 - 1/80*zeta160^20*q20^9 + 1/40*zeta160^20*q20^13 + 1/40*zeta160^60*q20^15 + 3/40*zeta160^20*q20^17 + 1/20*zeta160^60*q20^19 - 1/20*zeta160^20*q20^21 + 3/40*zeta160^60*q20^23 - 1/80*zeta160^20*q20^25 - 1/20*zeta160^60*q20^27 + 3/40*zeta160^20*q20^29 - 1/20*zeta160^60*q20^31 + 1/40*zeta160^60*q20^35 + 1/40*zeta160^20*q20^37 - 1/20*zeta160^60*q20^39 + O(q20^40)\n",
      "\n",
      "Denominators Cusp 1/2\n",
      "[+Infinity, -4, +Infinity, -3, +Infinity, -4, +Infinity, -3, +Infinity, -4]\n",
      "Minimal valuation -4\n",
      "Expansion at cusp 1/4:\n",
      "-1/20*zeta160^40*q5 - 1/10*zeta160^40*q5^3 + 1/20*zeta160^40*q5^5 + 1/10*zeta160^40*q5^7 - 1/20*zeta160^40*q5^9 + O(q5^10)\n",
      "\n",
      "Denominators Cusp 1/4\n",
      "[+Infinity, -2, +Infinity, -1, +Infinity, -2, +Infinity, -1, +Infinity, -2]\n",
      "Minimal valuation -2\n",
      "1/5*zeta160^16*q5^4 + O(q5^10)\n",
      "\n",
      "Denominators Cusp 1/8\n",
      "[+Infinity, +Infinity, +Infinity, +Infinity, 0, +Infinity, +Infinity, +Infinity, +Infinity, +Infinity]\n",
      "Minimal valuation 0\n",
      "Calculating Fourier expansions for f5\n",
      "Expansion at cusp 0:\n",
      "-1/160*q80^2 + 1/160*q80^3 + 1/80*q80^4 - 1/160*q80^5 - 3/160*q80^7 + 1/80*q80^9 - 1/160*q80^10 + 1/80*q80^11 - 1/40*q80^12 + 1/80*q80^13 + 1/40*q80^14 - 1/160*q80^15 - 1/40*q80^17 + 3/160*q80^18 + 1/40*q80^19 - 1/80*q80^20 - 1/80*q80^21 - 1/40*q80^22 - 1/160*q80^23 + 1/80*q80^26 - 1/80*q80^27 + 1/40*q80^28 + 1/40*q80^29 - 1/80*q80^31 - 1/80*q80^34 - 1/160*q80^35 + 1/80*q80^36 - 1/80*q80^37 - 1/40*q80^38 + 1/80*q80^39 + 3/80*q80^41 + 1/160*q80^43 + 1/160*q80^45 - 1/40*q80^46 + 1/32*q80^47 - 3/80*q80^49 - 1/160*q80^50 - 3/80*q80^51 + 1/40*q80^52 - 3/80*q80^53 + 1/80*q80^55 + 1/40*q80^57 + 1/80*q80^58 - 1/20*q80^59 + 1/40*q80^60 + 1/80*q80^61 + 1/20*q80^62 + 1/32*q80^63 + 3/160*q80^67 - 3/40*q80^68 - 3/80*q80^69 + 1/40*q80^70 + 3/80*q80^71 + 1/40*q80^73 - 3/80*q80^74 + 1/160*q80^75 - 1/20*q80^76 + 1/20*q80^77 - 1/40*q80^79 - 1/16*q80^81 + 3/80*q80^82 - 11/160*q80^83 - 1/20*q80^84 + 1/80*q80^85 + 1/20*q80^86 + 3/80*q80^87 + 3/160*q80^90 + 1/80*q80^91 + 3/40*q80^92 + 1/40*q80^93 - 1/40*q80^94 + 1/20*q80^97 - 9/160*q80^98 - 3/80*q80^99 + 1/80*q80^100 - 1/32*q80^103 + 1/80*q80^105 - 3/80*q80^106 + 3/160*q80^107 + 1/20*q80^108 - 3/80*q80^109 - 1/40*q80^110 + 1/80*q80^111 - 3/40*q80^113 + 1/32*q80^115 + 3/40*q80^116 - 1/80*q80^117 + 1/40*q80^118 + 1/80*q80^119 - 1/20*q80^121 + 1/80*q80^122 + 3/80*q80^123 - 1/20*q80^124 - 1/160*q80^125 - 3/40*q80^126 - 7/160*q80^127 + 1/16*q80^129 + 1/80*q80^130 + 3/80*q80^131 + 1/40*q80^133 - 1/20*q80^134 + 1/80*q80^135 + 1/40*q80^137 + 1/20*q80^139 - 1/40*q80^140 + 3/80*q80^141 - 1/40*q80^143 - 1/80*q80^145 + 3/80*q80^146 - 3/160*q80^147 + 1/40*q80^148 + 1/80*q80^149 - 9/80*q80^151 + 1/10*q80^154 - 3/80*q80^155 - 1/20*q80^156 - 1/16*q80^157 - 3/80*q80^159 + O(q80^160)\n",
      "\n",
      "Denominators Cusp 0\n",
      "[+Infinity, +Infinity, -5, -5, -4, -5, +Infinity, -5, +Infinity, -4]\n",
      "Minimal valuation -5\n",
      "Expansion at cusp 1/2:\n",
      "1/40*zeta160^40*q20^2 - 1/40*zeta160^60*q20^3 + 1/20*q20^4 - 1/40*zeta160^20*q20^5 - 3/40*zeta160^60*q20^7 - 1/20*zeta160^20*q20^9 + 1/40*zeta160^40*q20^10 - 1/20*zeta160^60*q20^11 - 1/10*q20^12 + 1/20*zeta160^20*q20^13 + 1/10*zeta160^40*q20^14 - 1/40*zeta160^60*q20^15 + 1/10*zeta160^20*q20^17 - 3/40*zeta160^40*q20^18 - 1/10*zeta160^60*q20^19 - 1/20*q20^20 - 1/20*zeta160^20*q20^21 - 1/10*zeta160^40*q20^22 - 1/40*zeta160^60*q20^23 - 1/20*zeta160^40*q20^26 + 1/20*zeta160^60*q20^27 + 1/10*q20^28 + 1/10*zeta160^20*q20^29 - 1/20*zeta160^60*q20^31 + 1/20*zeta160^40*q20^34 + 1/40*zeta160^60*q20^35 + 1/20*q20^36 - 1/20*zeta160^20*q20^37 - 1/10*zeta160^40*q20^38 + 1/20*zeta160^60*q20^39 + O(q20^40)\n",
      "\n",
      "Denominators Cusp 1/2\n",
      "[+Infinity, +Infinity, -3, -3, -2, -3, +Infinity, -3, +Infinity, -2]\n",
      "Minimal valuation -3\n",
      "Expansion at cusp 1/4:\n",
      "1/10*zeta160^40*q5^2 + 1/10*q5^3 + 1/5*zeta160^40*q5^4 + 1/10*q5^5 - 3/10*q5^7 - 1/5*q5^9 + O(q5^10)\n",
      "\n",
      "Denominators Cusp 1/4\n",
      "[+Infinity, +Infinity, -1, -1, 0, -1, +Infinity, -1, +Infinity, 0]\n",
      "Minimal valuation -1\n",
      "1/5*zeta160^32*q5^3 - 1/5*zeta160^48*q5^7 + O(q5^10)\n",
      "\n",
      "Denominators Cusp 1/8\n",
      "[+Infinity, +Infinity, +Infinity, 0, +Infinity, +Infinity, +Infinity, 0, +Infinity, +Infinity]\n",
      "Minimal valuation 0\n",
      "Calculating Fourier expansions for f6\n",
      "Expansion at cusp 0:\n",
      "-1/320*q80 + 1/160*q80^2 - 1/320*q80^5 - 1/80*q80^6 + 1/80*q80^7 + 3/320*q80^9 - 1/160*q80^10 - 1/80*q80^11 + 1/160*q80^13 + 1/80*q80^14 - 1/160*q80^17 + 1/160*q80^18 - 1/80*q80^19 - 1/80*q80^23 - 1/320*q80^25 + 1/80*q80^26 + 1/160*q80^29 + 1/80*q80^30 + 1/40*q80^31 - 3/80*q80^34 + 1/80*q80^35 - 3/160*q80^37 - 1/40*q80^38 + 3/160*q80^41 - 1/40*q80^42 + 1/40*q80^43 + 3/320*q80^45 + 3/80*q80^46 - 1/80*q80^47 - 9/320*q80^49 + 1/160*q80^50 - 3/160*q80^53 + 1/40*q80^54 - 1/80*q80^55 + 3/80*q80^58 + 1/80*q80^59 + 1/160*q80^61 - 1/40*q80^62 - 3/80*q80^63 + 1/160*q80^65 - 1/40*q80^67 - 1/80*q80^70 + 3/160*q80^73 + 1/80*q80^74 + 1/20*q80^77 - 1/40*q80^78 - 9/320*q80^81 + 3/80*q80^82 + 1/20*q80^83 - 1/160*q80^85 - 1/16*q80^86 + 3/160*q80^89 - 1/160*q80^90 - 1/40*q80^91 - 3/80*q80^94 - 1/80*q80^95 + 7/160*q80^97 - 3/160*q80^98 + 3/80*q80^99 - 3/160*q80^101 + 3/40*q80^102 - 1/80*q80^103 - 3/80*q80^106 - 7/160*q80^109 - 9/160*q80^113 + 1/20*q80^114 - 1/80*q80^115 - 3/160*q80^117 + 3/40*q80^118 + 1/40*q80^119 - 1/64*q80^121 + 1/80*q80^122 - 1/320*q80^125 + 1/80*q80^126 + 3/80*q80^127 - 1/80*q80^130 - 3/80*q80^131 + 1/20*q80^133 + 1/80*q80^134 - 1/32*q80^137 - 3/40*q80^138 - 3/80*q80^139 - 3/40*q80^142 + 1/40*q80^143 + 1/160*q80^145 + 1/80*q80^146 + 1/32*q80^149 - 1/80*q80^150 + 1/20*q80^151 + 3/160*q80^153 + 1/40*q80^155 + 1/160*q80^157 + 1/20*q80^158 + O(q80^160)\n",
      "\n",
      "Denominators Cusp 0\n",
      "[+Infinity, -6, -5, +Infinity, +Infinity, -6, -4, -4, +Infinity, -6]\n",
      "Minimal valuation -6\n",
      "Expansion at cusp 1/2:\n",
      "-1/80*zeta160^20*q20 + 1/40*zeta160^40*q20^2 + 1/80*zeta160^20*q20^5 + 1/20*zeta160^40*q20^6 - 1/20*zeta160^60*q20^7 + 3/80*zeta160^20*q20^9 - 1/40*zeta160^40*q20^10 - 1/20*zeta160^60*q20^11 - 1/40*zeta160^20*q20^13 - 1/20*zeta160^40*q20^14 - 1/40*zeta160^20*q20^17 + 1/40*zeta160^40*q20^18 - 1/20*zeta160^60*q20^19 + 1/20*zeta160^60*q20^23 - 1/80*zeta160^20*q20^25 + 1/20*zeta160^40*q20^26 - 1/40*zeta160^20*q20^29 - 1/20*zeta160^40*q20^30 - 1/10*zeta160^60*q20^31 - 3/20*zeta160^40*q20^34 + 1/20*zeta160^60*q20^35 + 3/40*zeta160^20*q20^37 + 1/10*zeta160^40*q20^38 + O(q20^40)\n",
      "\n",
      "Denominators Cusp 1/2\n",
      "[+Infinity, -4, -3, +Infinity, +Infinity, -4, -2, -2, +Infinity, -4]\n",
      "Minimal valuation -4\n",
      "Expansion at cusp 1/4:\n",
      "1/20*zeta160^40*q5 + 1/10*q5^2 + 1/20*zeta160^40*q5^5 - 1/5*q5^6 + 1/5*zeta160^40*q5^7 - 3/20*zeta160^40*q5^9 + O(q5^10)\n",
      "\n",
      "Denominators Cusp 1/4\n",
      "[+Infinity, -2, -1, +Infinity, +Infinity, -2, 0, 0, +Infinity, -2]\n",
      "Minimal valuation -2\n",
      "(1/5*zeta160^48 - 1/5*zeta160^32 + 1/5*zeta160^16 - 1/5)*q5^6 + O(q5^10)\n",
      "\n",
      "Denominators Cusp 1/8\n",
      "[+Infinity, +Infinity, +Infinity, +Infinity, +Infinity, +Infinity, 0, +Infinity, +Infinity, +Infinity]\n",
      "Minimal valuation 0\n",
      "Calculating Fourier expansions for f7\n",
      "Expansion at cusp 0:\n"
     ]
    },
    {
     "name": "stdout",
     "output_type": "stream",
     "text": [
      "-1/640*q80 + 1/320*q80^2 - 1/640*q80^5 - 1/160*q80^7 + 3/640*q80^9 + 1/320*q80^10 + 1/160*q80^11 + 1/320*q80^13 - 1/80*q80^14 - 1/320*q80^17 - 3/320*q80^18 + 1/160*q80^19 + 1/80*q80^22 + 1/160*q80^23 - 1/640*q80^25 - 1/160*q80^26 + 1/320*q80^29 - 1/80*q80^31 + 1/160*q80^34 - 1/160*q80^35 - 3/320*q80^37 + 1/80*q80^38 + 3/320*q80^41 - 1/80*q80^43 + 3/640*q80^45 + 1/80*q80^46 + 1/160*q80^47 - 9/640*q80^49 + 1/320*q80^50 - 3/320*q80^53 + 1/160*q80^55 - 1/160*q80^58 - 1/160*q80^59 + 1/320*q80^61 - 1/40*q80^62 + 3/160*q80^63 + 1/320*q80^65 + 1/80*q80^67 - 1/80*q80^70 + 3/320*q80^73 + 3/160*q80^74 + 1/40*q80^77 - 9/640*q80^81 - 3/160*q80^82 - 1/40*q80^83 - 1/320*q80^85 - 1/40*q80^86 + 3/320*q80^89 - 3/320*q80^90 + 1/80*q80^91 + 1/80*q80^94 + 1/160*q80^95 + 7/320*q80^97 + 9/320*q80^98 - 3/160*q80^99 - 3/320*q80^101 + 1/160*q80^103 + 3/160*q80^106 - 7/320*q80^109 + 1/80*q80^110 - 9/320*q80^113 + 1/160*q80^115 - 3/320*q80^117 - 1/80*q80^118 - 1/80*q80^119 - 1/128*q80^121 - 1/160*q80^122 - 1/640*q80^125 + 3/80*q80^126 - 3/160*q80^127 - 1/160*q80^130 + 3/160*q80^131 + 1/40*q80^133 + 1/40*q80^134 - 1/64*q80^137 + 3/160*q80^139 - 1/80*q80^143 + 1/320*q80^145 - 3/160*q80^146 + 1/64*q80^149 - 1/40*q80^151 + 3/320*q80^153 - 1/20*q80^154 - 1/80*q80^155 + 1/320*q80^157 + O(q80^160)\n",
      "\n",
      "Denominators Cusp 0\n",
      "[+Infinity, -7, -6, +Infinity, +Infinity, -7, +Infinity, -5, +Infinity, -7]\n",
      "Minimal valuation -7\n",
      "Expansion at cusp 1/2:\n",
      "1/160*zeta160^20*q20 - 1/80*zeta160^40*q20^2 - 1/160*zeta160^20*q20^5 - 1/40*zeta160^60*q20^7 - 3/160*zeta160^20*q20^9 - 1/80*zeta160^40*q20^10 - 1/40*zeta160^60*q20^11 + 1/80*zeta160^20*q20^13 - 1/20*zeta160^40*q20^14 + 1/80*zeta160^20*q20^17 + 3/80*zeta160^40*q20^18 - 1/40*zeta160^60*q20^19 + 1/20*zeta160^40*q20^22 + 1/40*zeta160^60*q20^23 + 1/160*zeta160^20*q20^25 + 1/40*zeta160^40*q20^26 + 1/80*zeta160^20*q20^29 - 1/20*zeta160^60*q20^31 - 1/40*zeta160^40*q20^34 + 1/40*zeta160^60*q20^35 - 3/80*zeta160^20*q20^37 + 1/20*zeta160^40*q20^38 + O(q20^40)\n",
      "\n",
      "Denominators Cusp 1/2\n",
      "[+Infinity, -5, -4, +Infinity, +Infinity, -5, +Infinity, -3, +Infinity, -5]\n",
      "Minimal valuation -5\n",
      "Expansion at cusp 1/4:\n",
      "-1/40*q5 + 1/20*zeta160^40*q5^2 - 1/40*q5^5 + 1/10*q5^7 + 3/40*q5^9 + O(q5^10)\n",
      "\n",
      "Denominators Cusp 1/4\n",
      "[+Infinity, -3, -2, +Infinity, +Infinity, -3, +Infinity, -1, +Infinity, -3]\n",
      "Minimal valuation -3\n",
      "(1/20*zeta160^48 - 1/20*zeta160^32 + 1/20*zeta160^16 - 1/20)*q5 + 1/20*q5^5 + 3/20*zeta160^16*q5^9 + O(q5^10)\n",
      "\n",
      "Denominators Cusp 1/8\n",
      "[+Infinity, -2, +Infinity, +Infinity, +Infinity, -2, +Infinity, +Infinity, +Infinity, -2]\n",
      "Minimal valuation -2\n",
      "SUMMARY:\n",
      "All valuations at 0\n",
      "[-5, -5, -7, -6, -5, -6, -7]\n",
      "All valuations at 1/2\n",
      "[-3, -3, -5, -4, -3, -4, -5]\n",
      "All valuations at 1/4\n",
      "[-1, -1, -3, -2, -1, -2, -3]\n",
      "All valuations at 1/8\n",
      "[0, 0, -2, 0, 0, 0, -2]\n"
     ]
    }
   ],
   "source": [
    "count = 1\n",
    "valuations_0 = []\n",
    "valuations_12 = []\n",
    "valuations_14 = []\n",
    "valuations_18 = []\n",
    "for f in [f1,f2,f3,f4,f5,f6,f7]:\n",
    "    print 'Calculating Fourier expansions for f{}'.format(count)\n",
    "    print 'Expansion at cusp 0:'\n",
    "    s0 = get_expansion(f, mat = Matrix(2,2,[0,-1,1,0]));\n",
    "    print s0\n",
    "    K0 = s0.series.base_ring() #Number field\n",
    "    P0 = K0.prime_above(2)\n",
    "    print('Denominators Cusp 0')\n",
    "    print [valuation(s0[i],P0)/P0.ramification_index() for i in range(10)]\n",
    "    print 'Minimal valuation', min([valuation(s0[i],P0)/P0.ramification_index() for i in range(10)])\n",
    "    valuations_0.append(min([valuation(s0[i],P0)/P0.ramification_index() for i in range(10)]))\n",
    "    print 'Expansion at cusp 1/2:'\n",
    "    s2 = get_expansion(f, mat = Matrix(2,2,[1,2,2,5]));\n",
    "    print s2\n",
    "    K2 = s2.series.base_ring() #Number field\n",
    "    P2 = K2.prime_above(2)\n",
    "    print('Denominators Cusp 1/2')\n",
    "    print [valuation(s2[i],P2)/P2.ramification_index() for i in range(10)]\n",
    "    print 'Minimal valuation', min([valuation(s2[i],P2)/P2.ramification_index() for i in range(10)])\n",
    "    valuations_12.append(min([valuation(s2[i],P2)/P2.ramification_index() for i in range(10)]))\n",
    "    s4 = get_expansion(f, mat = Matrix(2,2,[1,1,4,5]));\n",
    "    print 'Expansion at cusp 1/4:'\n",
    "    print s4\n",
    "    K4 = s4.series.base_ring() #Number field\n",
    "    P4 = K4.prime_above(2)\n",
    "    print('Denominators Cusp 1/4')\n",
    "    print [valuation(s4[i],P4)/P4.ramification_index() for i in range(10)]\n",
    "    print 'Minimal valuation', min([valuation(s4[i],P4)/P4.ramification_index() for i in range(10)])\n",
    "    valuations_14.append(min([valuation(s4[i],P4)/P4.ramification_index() for i in range(10)]))\n",
    "    s8 = get_expansion(f, mat = Matrix(2,2,[1,0,8,1]));\n",
    "    print s8\n",
    "    K8 = s8.series.base_ring() #Number field\n",
    "    P8 = K8.prime_above(2)\n",
    "    print('Denominators Cusp 1/8')\n",
    "    print [valuation(s8[i],P8)/P8.ramification_index() for i in range(10)]\n",
    "    print 'Minimal valuation', min([valuation(s8[i],P8)/P8.ramification_index() for i in range(10)])\n",
    "    valuations_18.append(min([valuation(s8[i],P8)/P8.ramification_index() for i in range(10)]))\n",
    "    count+=1\n",
    "print 'SUMMARY:'\n",
    "print 'All valuations at 0'\n",
    "print valuations_0\n",
    "print 'All valuations at 1/2'\n",
    "print valuations_12\n",
    "print 'All valuations at 1/4'\n",
    "print valuations_14\n",
    "print 'All valuations at 1/8'\n",
    "print valuations_18"
   ]
  },
  {
   "cell_type": "markdown",
   "metadata": {},
   "source": [
    "We show that $f_1 + f_2 + f_5$ is in $H^0(X_0(80),\\Omega)$. The same calculation can be done for $f = 2(f_3+f_7)$ to show that this is also in $H^0(X_0(80),\\Omega)$."
   ]
  },
  {
   "cell_type": "code",
   "execution_count": 55,
   "metadata": {},
   "outputs": [
    {
     "name": "stdout",
     "output_type": "stream",
     "text": [
      "Expansion at cusp 0:\n",
      "-1/80*q80 - 1/80*q80^2 - 1/80*q80^5 + 3/80*q80^9 - 1/80*q80^10 + 1/40*q80^13 + 1/20*q80^14 - 1/40*q80^17 + 3/80*q80^18 - 1/20*q80^22 - 1/80*q80^25 + 1/40*q80^26 + 1/40*q80^29 - 1/40*q80^34 - 3/40*q80^37 - 1/20*q80^38 + 3/40*q80^41 + 3/80*q80^45 - 1/20*q80^46 - 9/80*q80^49 - 1/80*q80^50 - 3/40*q80^53 + 1/40*q80^58 + 1/40*q80^61 + 1/10*q80^62 + 1/40*q80^65 + 1/20*q80^70 + 3/40*q80^73 - 3/40*q80^74 + 1/5*q80^77 - 9/80*q80^81 + 3/40*q80^82 - 1/40*q80^85 + 1/10*q80^86 + 3/40*q80^89 + 3/80*q80^90 - 1/20*q80^94 + 7/40*q80^97 - 9/80*q80^98 - 3/40*q80^101 - 3/40*q80^106 - 7/40*q80^109 - 1/20*q80^110 - 9/40*q80^113 - 3/40*q80^117 + 1/20*q80^118 - 1/16*q80^121 + 1/40*q80^122 - 1/80*q80^125 - 3/20*q80^126 + 1/40*q80^130 + 1/5*q80^133 - 1/10*q80^134 - 1/8*q80^137 + 1/40*q80^145 + 3/40*q80^146 + 1/8*q80^149 + 3/40*q80^153 + 1/5*q80^154 + 1/40*q80^157 + O(q80^160)\n",
      "\n",
      "Denominators Cusp 0\n",
      "[+Infinity, -4, -4, +Infinity, +Infinity, -4, +Infinity, +Infinity, +Infinity, -4]\n",
      "Minimal valuation -4\n",
      "1/20*zeta160^40*q20^2 - 1/5*zeta160^60*q20^7 + 1/20*zeta160^40*q20^10 - 1/5*zeta160^60*q20^11 + 1/5*zeta160^40*q20^14 - 3/20*zeta160^40*q20^18 - 1/5*zeta160^60*q20^19 - 1/5*zeta160^40*q20^22 + 1/5*zeta160^60*q20^23 - 1/10*zeta160^40*q20^26 - 2/5*zeta160^60*q20^31 + 1/10*zeta160^40*q20^34 + 1/5*zeta160^60*q20^35 - 1/5*zeta160^40*q20^38 + O(q20^41)\n",
      "\n",
      "Denominators Cusp 1/2\n",
      "[+Infinity, +Infinity, -2, +Infinity, +Infinity, +Infinity, +Infinity, 0, +Infinity, +Infinity]\n",
      "Minimal valuation -2\n",
      "Expansion at cusp 1/4:\n",
      "(1/10*zeta160^40 + 1/10)*q5 + 1/5*zeta160^40*q5^2 + (1/10*zeta160^40 + 1/10)*q5^5 + (2/5*zeta160^40 - 2/5)*q5^7 + (-3/10*zeta160^40 - 3/10)*q5^9 + O(q5^10)\n",
      "\n",
      "Denominators Cusp 1/4\n",
      "[+Infinity, -1/2, 0, +Infinity, +Infinity, -1/2, +Infinity, 3/2, +Infinity, -1/2]\n",
      "Minimal valuation -1/2\n",
      "Expansion at cusp 1/8:\n",
      "-1/5*zeta160^48*q5^2 - 4/5*zeta160^48*q5^7 + O(q5^10)\n",
      "\n",
      "Denominators Cusp 1/8\n",
      "[+Infinity, +Infinity, 0, +Infinity, +Infinity, +Infinity, +Infinity, 2, +Infinity, +Infinity]\n",
      "Minimal valuation 0\n",
      "Expansion at cusp 1/16:\n",
      "-1/5*zeta160^32*q5 + (-1/5*zeta160^48 + 1/5*zeta160^32 - 1/5*zeta160^16 + 1/5)*q5^2 - 1/5*q5^5 - 3/5*zeta160^48*q5^9 + O(q5^10)\n",
      "\n",
      "Denominators Cusp 1/16\n",
      "[+Infinity, 0, 0, +Infinity, +Infinity, 0, +Infinity, +Infinity, +Infinity, 0]\n",
      "Minimal valuation 0\n"
     ]
    }
   ],
   "source": [
    "f = f1+f2+f5\n",
    "print 'Expansion at cusp 0:'\n",
    "s0 = get_expansion(f, mat = Matrix(2,2,[0,-1,1,0]));\n",
    "print s0\n",
    "K0 = s0.series.base_ring() #Number field\n",
    "P0 = K0.prime_above(2)\n",
    "print('Denominators Cusp 0')\n",
    "print [valuation(s0[i],P0)/P0.ramification_index() for i in range(10)]\n",
    "print 'Minimal valuation', min([valuation(s0[i],P0)/P0.ramification_index() for i in range(10)])\n",
    "valuations_0.append(min([valuation(s0[i],P0)/P0.ramification_index() for i in range(10)]))\n",
    "s2 = get_expansion(f, mat = Matrix(2,2,[1,2,2,5]));\n",
    "print s2\n",
    "K2 = s2.series.base_ring() #Number field\n",
    "P2 = K2.prime_above(2)\n",
    "print('Denominators Cusp 1/2')\n",
    "print [valuation(s2[i],P2)/P2.ramification_index() for i in range(10)]\n",
    "print 'Minimal valuation', min([valuation(s2[i],P2)/P2.ramification_index() for i in range(10)])\n",
    "s4 = get_expansion(f, mat = Matrix(2,2,[1,1,4,5]));\n",
    "print 'Expansion at cusp 1/4:'\n",
    "print s4\n",
    "K4 = s4.series.base_ring() #Number field\n",
    "P4 = K4.prime_above(2)\n",
    "print('Denominators Cusp 1/4')\n",
    "print [valuation(s4[i],P4)/P4.ramification_index() for i in range(10)]\n",
    "print 'Minimal valuation', min([valuation(s4[i],P4)/P4.ramification_index() for i in range(10)])\n",
    "s8 = get_expansion(f, mat = Matrix(2,2,[1,0,8,1]));\n",
    "print 'Expansion at cusp 1/8:'\n",
    "print s8\n",
    "K8 = s8.series.base_ring() #Number field\n",
    "P8 = K8.prime_above(2)\n",
    "print('Denominators Cusp 1/8')\n",
    "print [valuation(s8[i],P8)/P8.ramification_index() for i in range(10)]\n",
    "print 'Minimal valuation', min([valuation(s8[i],P8)/P8.ramification_index() for i in range(10)])\n",
    "s16 = get_expansion(f, mat = Matrix(2,2,[1,0,16,1]));\n",
    "print 'Expansion at cusp 1/16:'\n",
    "print s16\n",
    "K16 = s16.series.base_ring() #Number field\n",
    "P16 = K16.prime_above(2)\n",
    "print('Denominators Cusp 1/16')\n",
    "print [valuation(s16[i],P16)/P16.ramification_index() for i in range(10)]\n",
    "print 'Minimal valuation', min([valuation(s16[i],P16)/P16.ramification_index() for i in range(10)])"
   ]
  },
  {
   "cell_type": "markdown",
   "metadata": {},
   "source": [
    "## Checking that $S_2(\\Gamma_0(80),\\mathbb{Z})$ is not equal to $H^0(X_0(80,\\Omega)$\n",
    "Here we calculate the index of $L'$, the lattice generated by Hecke eigenforms in $L$, the lattice $S_2(\\Gamma_0(80),\\mathbb{Z})$. It is 2048. We also calculate the index of the lattice $<2f_1, f_1+f_2+f_5,8f_3, 4f_4,2f_5,4f_6,2(f_3+f_7)>$ which is contained in $H^0(X_0(80,\\Omega)$ by previous calculations. This index is $1024$, showing that $L'$ is strictly smaller than $H^0(X_0(80,\\Omega)$."
   ]
  },
  {
   "cell_type": "code",
   "execution_count": 56,
   "metadata": {},
   "outputs": [
    {
     "data": {
      "text/plain": [
       "Lattice of degree 7 and rank 7 over Integer Ring\n",
       "Basis matrix:\n",
       "[ 1  0 -2  0 -1  0  2]\n",
       "[ 0  2  0  0  0 -4  0]\n",
       "[ 0  0  0  4  0  0  0]\n",
       "[ 1  0  0  0  1  0 -4]\n",
       "[ 0  2  0  0  0  0  0]\n",
       "[ 1  0  0  0  1  0  4]\n",
       "[ 1  0  2  0 -1  0 -2]\n",
       "Inner product matrix:\n",
       "[1 0 0 0 0 0 0]\n",
       "[0 1 0 0 0 0 0]\n",
       "[0 0 1 0 0 0 0]\n",
       "[0 0 0 1 0 0 0]\n",
       "[0 0 0 0 1 0 0]\n",
       "[0 0 0 0 0 1 0]\n",
       "[0 0 0 0 0 0 1]"
      ]
     },
     "execution_count": 56,
     "metadata": {},
     "output_type": "execute_result"
    }
   ],
   "source": [
    "G = identity_matrix(7)\n",
    "basis = map(lambda x: list(x),(B_80^(-1)).rows())\n",
    "hecke_lattice = IntegralLattice(G, basis)\n",
    "hecke_lattice"
   ]
  },
  {
   "cell_type": "code",
   "execution_count": 57,
   "metadata": {},
   "outputs": [
    {
     "data": {
      "text/plain": [
       "2048"
      ]
     },
     "execution_count": 57,
     "metadata": {},
     "output_type": "execute_result"
    }
   ],
   "source": [
    "sqrt(-hecke_lattice.discriminant())"
   ]
  },
  {
   "cell_type": "code",
   "execution_count": 63,
   "metadata": {},
   "outputs": [],
   "source": [
    "sublattice1_basis= [[2,0,0,0,0,0,0],[0,2,0,0,0,0,0],[0,0,8,0,0,0,0],[0,0,0,4,0,0,0],[0,0,0,0,2,0,0],[0,0,0,0,0,4,0],[0,0,0,0,0,0,8]]\n",
    "sublattice1 = IntegralLattice(G, sublattice1_basis) #A small lattice that is contained in H^0(X_0(80),Omega)"
   ]
  },
  {
   "cell_type": "code",
   "execution_count": 71,
   "metadata": {},
   "outputs": [],
   "source": [
    "sublattice2_basis = [[2,0,0,0,0,0,0],[1,1,0,0,1,0,0],[0,0,8,0,0,0,0],[0,0,0,4,0,0,0],[0,0,0,0,2,0,0],[0,0,0,0,0,4,0],[0,0,2,0,0,0,2]]\n",
    "sublattice2 = IntegralLattice(G, sublattice2_basis) #A slightly bigger lattice"
   ]
  },
  {
   "cell_type": "code",
   "execution_count": 72,
   "metadata": {},
   "outputs": [
    {
     "data": {
      "text/plain": [
       "1024"
      ]
     },
     "execution_count": 72,
     "metadata": {},
     "output_type": "execute_result"
    }
   ],
   "source": [
    "sqrt(-sublattice_of_K2.discriminant())"
   ]
  },
  {
   "cell_type": "code",
   "execution_count": null,
   "metadata": {},
   "outputs": [],
   "source": []
  }
 ],
 "metadata": {
  "kernelspec": {
   "display_name": "SageMath 8.9",
   "language": "sage",
   "name": "sagemath"
  },
  "language_info": {
   "codemirror_mode": {
    "name": "ipython",
    "version": 2
   },
   "file_extension": ".py",
   "mimetype": "text/x-python",
   "name": "python",
   "nbconvert_exporter": "python",
   "pygments_lexer": "ipython2",
   "version": "2.7.15"
  }
 },
 "nbformat": 4,
 "nbformat_minor": 2
}
